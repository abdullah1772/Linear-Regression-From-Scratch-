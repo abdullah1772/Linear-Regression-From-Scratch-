{
 "cells": [
  {
   "cell_type": "code",
   "execution_count": 1,
   "id": "6e799bfb",
   "metadata": {
    "execution": {
     "iopub.execute_input": "2023-01-23T19:26:53.819263Z",
     "iopub.status.busy": "2023-01-23T19:26:53.818669Z",
     "iopub.status.idle": "2023-01-23T19:26:54.034658Z",
     "shell.execute_reply": "2023-01-23T19:26:54.033298Z"
    },
    "id": "three-sally",
    "outputId": "170c7887-7c8b-4029-a500-b5401616892e",
    "papermill": {
     "duration": 0.227013,
     "end_time": "2023-01-23T19:26:54.037812",
     "exception": false,
     "start_time": "2023-01-23T19:26:53.810799",
     "status": "completed"
    },
    "tags": []
   },
   "outputs": [
    {
     "data": {
      "image/png": "[encoded data removed]",
      "text/plain": [
       "<Figure size 432x288 with 1 Axes>"
      ]
     },
     "metadata": {
      "needs_background": "light"
     },
     "output_type": "display_data"
    }
   ],
   "source": [
    "from numpy.random import normal\n",
    "import matplotlib.pyplot as plt\n",
    "import random\n",
    "\n",
    "a = 4 # height\n",
    "b = 2 # slope\n",
    "\n",
    "# generate data\n",
    "N = 200 # sample size\n",
    "X = normal(loc=0.0, scale=1.0, size=N)\n",
    "W = normal(loc=0.0, scale=1.0, size=N)\n",
    "Y = a + b*X + W\n",
    "\n",
    "# plot data\n",
    "plt.scatter(X,Y)\n",
    "plt.xlabel('X')\n",
    "plt.ylabel('Y')\n",
    "plt.show()"
   ]
  },
  {
   "cell_type": "markdown",
   "id": "72816576",
   "metadata": {
    "id": "pressing-haiti",
    "papermill": {
     "duration": 0.004605,
     "end_time": "2023-01-23T19:26:54.047878",
     "exception": false,
     "start_time": "2023-01-23T19:26:54.043273",
     "status": "completed"
    },
    "tags": []
   },
   "source": [
    "Let us consider now the model given by $F(x,w_1,w_2) = w_1 + w_2 x$, which has two parameters $w_1$ and $w_2$. We want to adjust the values of $w_1$ and $w_2$ so that $F$ is a good approximation of the 'data' $Y$ plotted above. For this purpose, let's do the following:\n",
    "\n",
    "**a**. Write a python function that takes as arguments $X$ and $Y$, and returns the mean square error of $F$ given by\n",
    "$$ E(w_1,w_2) = \\frac{1}{N} \\sum_{i=1}^N ( w_1 + w_2 x_i - y_i )^2,$$\n",
    "where $x_i$ and $y_i$ are the i-th element of the arrays $X$ and $Y$, respectively.\n",
    "\n",
    "**b**. Calculate the gradient of $E(w_1,w_2)$ analytically. Then, implement a function that calculates the gradient in Python. \n",
    "\n",
    "**c**. Using the function of the previous item, implement a gradient descent algorithm that can estimate good values of $w_1$ and $w_2$. Show that it works, i.e. that the final values of $w_1$ and $w_2$ are similar to the ones of $a$ and $b$ used above to generate the data.\n",
    "\n",
    "**d**. Make a plot including a scatter plot of the data $Y$ (i.e. same as above), a linear function using the initial values of $w_1$ and $w_2$, a linear function using it final values, and a linear function using the values of $a$ and $b$. Make sure to add plot labels for the linear functions so we know which is which! \n",
    "\n",
    "**e**. Write another python function for the following error function:*\n",
    "$$ \\tilde{E}(w_1,w_2) = \\frac{1}{N} \\sum_{i=1}^N ( w_1 + w_2 x_i - y_i )^4.$$\n",
    "*Calculate analytically the gradient of $\\tilde{E}$, and implement another python function that calculates it. "
   ]
  },
  {
   "cell_type": "markdown",
   "id": "037c8752",
   "metadata": {
    "papermill": {
     "duration": 0.004429,
     "end_time": "2023-01-23T19:26:54.057104",
     "exception": false,
     "start_time": "2023-01-23T19:26:54.052675",
     "status": "completed"
    },
    "tags": []
   },
   "source": [
    "### a. Write a python function that takes as arguments  𝑋  and  𝑌 , and returns the mean square error of  𝐹  given by 𝐸(𝑤1,𝑤2)=1𝑁∑𝑖=1𝑁(𝑤1+𝑤2𝑥𝑖−𝑦𝑖)2,"
   ]
  },
  {
   "cell_type": "code",
   "execution_count": 2,
   "id": "a624c5bf",
   "metadata": {
    "execution": {
     "iopub.execute_input": "2023-01-23T19:26:54.068616Z",
     "iopub.status.busy": "2023-01-23T19:26:54.068064Z",
     "iopub.status.idle": "2023-01-23T19:26:54.075321Z",
     "shell.execute_reply": "2023-01-23T19:26:54.074107Z"
    },
    "papermill": {
     "duration": 0.015953,
     "end_time": "2023-01-23T19:26:54.077721",
     "exception": false,
     "start_time": "2023-01-23T19:26:54.061768",
     "status": "completed"
    },
    "tags": []
   },
   "outputs": [],
   "source": [
    "#A function that calculates the mean squared error for given values of X and Y with parameters w1 and w2\n",
    "def mean_square_error(X, Y, w1, w2):\n",
    "    n = len(X)\n",
    "    total_error = 0\n",
    "    \n",
    "    #running the loop for total numer of samples in dataset\n",
    "    for i in range(n):\n",
    "        #calculating the error value as given in the above formula in statement (a)\n",
    "        total_error = total_error + (w1 + w2 * X[i] - Y[i]) ** 2\n",
    "    \n",
    "    #Since this is a mean error, dividing the total error calculated by total number of samples \n",
    "    mse = total_error / n\n",
    "    return mse"
   ]
  },
  {
   "cell_type": "markdown",
   "id": "44ec0b2a",
   "metadata": {
    "papermill": {
     "duration": 0.00462,
     "end_time": "2023-01-23T19:26:54.087461",
     "exception": false,
     "start_time": "2023-01-23T19:26:54.082841",
     "status": "completed"
    },
    "tags": []
   },
   "source": [
    "### b. Calculate the gradient of  𝐸(𝑤1,𝑤2)  analytically. Then, implement a function that calculates the gradient in Python."
   ]
  },
  {
   "cell_type": "markdown",
   "id": "aa35c8ae",
   "metadata": {
    "papermill": {
     "duration": 0.004474,
     "end_time": "2023-01-23T19:26:54.096938",
     "exception": false,
     "start_time": "2023-01-23T19:26:54.092464",
     "status": "completed"
    },
    "tags": []
   },
   "source": [
    "(b)For this part we need to calculate partial derivatives with respect to w1 and w2\n",
    "\n",
    "\n",
    "Let's see how can we calculate the partial derivative for w1 first \n",
    "\n",
    "In the original equation we have = (𝑤1 + (𝑤2 * 𝑥𝑖) − 𝑦𝑖)^2\n",
    "\n",
    "(1)()^2 will transform to 2()\n",
    "\n",
    "(2)(𝑤1 + (𝑤2 * 𝑥𝑖) − 𝑦𝑖) stays the same\n",
    "\n",
    "(1 + (0) − 0)\n",
    "\n",
    "(3)Here derivative of (𝑤1 + (𝑤2 * 𝑥𝑖) − 𝑦𝑖) turns into this: (1 + (0) − 0) or 1 because we treat 𝑦𝑖 and (𝑤2 * 𝑥𝑖) as constants so they become 0 and w1 becomes 1, so we can just use the same equation that was left with us.\n",
    "\n",
    "(4)Put everything together we get (2 * (w1 + (𝑤2 * 𝑥𝑖) - 𝑦𝑖))\n",
    "\n",
    "Now let's see how can we calculate the partial derivative for w2 \n",
    "\n",
    "In the original equation we have = (𝑤1 + (𝑤2 * 𝑥𝑖) − 𝑦𝑖)^2\n",
    "\n",
    "(1)()^2 will transform to 2()\n",
    "\n",
    "(2)Take a partial derivative with respect to w2 we get (0 + (1 * 𝑥𝑖) − 0) hence we get 𝑥𝑖. \n",
    "\n",
    "(3)Put everything together we get (2 * (w1 + (𝑤2 * 𝑥𝑖) - 𝑦𝑖)) * 𝑥𝑖"
   ]
  },
  {
   "cell_type": "code",
   "execution_count": 3,
   "id": "291920d2",
   "metadata": {
    "execution": {
     "iopub.execute_input": "2023-01-23T19:26:54.108871Z",
     "iopub.status.busy": "2023-01-23T19:26:54.108371Z",
     "iopub.status.idle": "2023-01-23T19:26:54.116336Z",
     "shell.execute_reply": "2023-01-23T19:26:54.115041Z"
    },
    "papermill": {
     "duration": 0.017054,
     "end_time": "2023-01-23T19:26:54.118859",
     "exception": false,
     "start_time": "2023-01-23T19:26:54.101805",
     "status": "completed"
    },
    "tags": []
   },
   "outputs": [],
   "source": [
    "#A function that calculates the Gradient/partial derivative of MSE\n",
    "#We use partial derivatives to find how each individual parameter (w1 and w2) affects MSE and to update the values of w1 and w2\n",
    "def gradient_mean_square_error(X, Y, w1, w2):\n",
    "    n = len(X)\n",
    "    partial_derivative_w1 = 0\n",
    "    partial_derivative_w2 = 0\n",
    "    \n",
    "    #calculate the mse partial derivatives of w1 and w2 for number of samples in the dataset as we calculated them above\n",
    "    for i in range(n):\n",
    "        partial_derivative_w1 += 2 * (w1 + w2 * X[i] - Y[i])\n",
    "        partial_derivative_w2 += 2 * (w1 + w2 * X[i] - Y[i]) * X[i]\n",
    "    \n",
    "    #take the mean of w1 and w2 vals\n",
    "    partial_derivative_w1 = partial_derivative_w1 / n\n",
    "    partial_derivative_w2 = partial_derivative_w2 / n\n",
    "    \n",
    "    return partial_derivative_w1 , partial_derivative_w2 "
   ]
  },
  {
   "cell_type": "markdown",
   "id": "41f428a6",
   "metadata": {
    "papermill": {
     "duration": 0.004755,
     "end_time": "2023-01-23T19:26:54.128948",
     "exception": false,
     "start_time": "2023-01-23T19:26:54.124193",
     "status": "completed"
    },
    "tags": []
   },
   "source": [
    "### c. Using the function of the previous item, implement a gradient descent algorithm that can estimate good values of  𝑤1  and  𝑤2 . Show that it works, i.e. that the final values of  𝑤1  and  𝑤2  are similar to the ones of  𝑎  and  𝑏  used above to generate the data."
   ]
  },
  {
   "cell_type": "code",
   "execution_count": 4,
   "id": "5f459284",
   "metadata": {
    "execution": {
     "iopub.execute_input": "2023-01-23T19:26:54.140899Z",
     "iopub.status.busy": "2023-01-23T19:26:54.140374Z",
     "iopub.status.idle": "2023-01-23T19:26:54.148621Z",
     "shell.execute_reply": "2023-01-23T19:26:54.147272Z"
    },
    "papermill": {
     "duration": 0.017299,
     "end_time": "2023-01-23T19:26:54.151191",
     "exception": false,
     "start_time": "2023-01-23T19:26:54.133892",
     "status": "completed"
    },
    "tags": []
   },
   "outputs": [],
   "source": [
    "#This function implements the gradient descent algorithm\n",
    "def gradient_descent(X, Y, w1, w2, learning_rate, num_iterations):\n",
    "    \n",
    "    mse_list = []\n",
    "    \n",
    "    for i in range(num_iterations):\n",
    "        #We use our gradient_mean_square_error to calculate partial derivatives of w1 and w2 and update them \n",
    "        partial_derivative_w1, partial_derivative_w2 = gradient_mean_square_error(X, Y, w1, w2)\n",
    "        w1 -= learning_rate * partial_derivative_w1\n",
    "        w2 -= learning_rate * partial_derivative_w2\n",
    "        \n",
    "        mse_list.append(mean_square_error(X, Y, w1, w2))\n",
    "    #return the final calculated derivatives\n",
    "    return w1, w2 ,mse_list"
   ]
  },
  {
   "cell_type": "code",
   "execution_count": 5,
   "id": "040940dd",
   "metadata": {
    "execution": {
     "iopub.execute_input": "2023-01-23T19:26:54.164385Z",
     "iopub.status.busy": "2023-01-23T19:26:54.163824Z",
     "iopub.status.idle": "2023-01-23T19:26:54.581428Z",
     "shell.execute_reply": "2023-01-23T19:26:54.580064Z"
    },
    "papermill": {
     "duration": 0.428369,
     "end_time": "2023-01-23T19:26:54.584863",
     "exception": false,
     "start_time": "2023-01-23T19:26:54.156494",
     "status": "completed"
    },
    "tags": []
   },
   "outputs": [
    {
     "name": "stdout",
     "output_type": "stream",
     "text": [
      "Original value a =  4  New calculated value w1 =  4.034487392219161\n",
      "Original value a =  2  New calculated value w1 =  1.9630254491390582\n"
     ]
    }
   ],
   "source": [
    "#Generate random value for w1 and w2 between 0 and 1\n",
    "initial_w1 = random.uniform(0, 1)\n",
    "initial_w2 = random.uniform(0, 1)\n",
    "\n",
    "#define the learning rate and no of iterations we need to calculate \n",
    "learning_rate = 0.1\n",
    "iterations = 1000\n",
    "\n",
    "# Perform gradient descent using our implemented gradient descent function\n",
    "final_w1, final_w2,mse_final_list = gradient_descent(X, Y, initial_w1, initial_w2, learning_rate, iterations)\n",
    "\n",
    "#Print the original and new calculated values of a and b\n",
    "print(\"Original value a = \", a , \" New calculated value w1 = \",final_w1)\n",
    "print(\"Original value a = \", b , \" New calculated value w1 = \",final_w2)"
   ]
  },
  {
   "cell_type": "code",
   "execution_count": 6,
   "id": "20c12dd3",
   "metadata": {
    "execution": {
     "iopub.execute_input": "2023-01-23T19:26:54.597719Z",
     "iopub.status.busy": "2023-01-23T19:26:54.597232Z",
     "iopub.status.idle": "2023-01-23T19:26:54.602575Z",
     "shell.execute_reply": "2023-01-23T19:26:54.601590Z"
    },
    "papermill": {
     "duration": 0.014574,
     "end_time": "2023-01-23T19:26:54.604880",
     "exception": false,
     "start_time": "2023-01-23T19:26:54.590306",
     "status": "completed"
    },
    "tags": []
   },
   "outputs": [],
   "source": [
    "# #plot mse with respect to iterations\n",
    "# iters = list(range(0, iterations))\n",
    "# plt.figure(figsize=(10, 10))\n",
    "\n",
    "# # plot mse\n",
    "# plt.plot(iters, mse_final_list, color='b' ,label = \"loss function\")"
   ]
  },
  {
   "cell_type": "markdown",
   "id": "ee7de181",
   "metadata": {
    "papermill": {
     "duration": 0.00479,
     "end_time": "2023-01-23T19:26:54.615050",
     "exception": false,
     "start_time": "2023-01-23T19:26:54.610260",
     "status": "completed"
    },
    "tags": []
   },
   "source": [
    "### Make a plot including a scatter plot of the data  𝑌  (i.e. same as above), a linear function using the initial values of  𝑤1  and  𝑤2 , a linear function using it final values, and a linear function using the values of  𝑎  and  𝑏 . Make sure to add plot labels for the linear functions so we know which is which!"
   ]
  },
  {
   "cell_type": "code",
   "execution_count": 7,
   "id": "7753764d",
   "metadata": {
    "execution": {
     "iopub.execute_input": "2023-01-23T19:26:54.628309Z",
     "iopub.status.busy": "2023-01-23T19:26:54.627735Z",
     "iopub.status.idle": "2023-01-23T19:26:54.633816Z",
     "shell.execute_reply": "2023-01-23T19:26:54.632884Z"
    },
    "papermill": {
     "duration": 0.015266,
     "end_time": "2023-01-23T19:26:54.635991",
     "exception": false,
     "start_time": "2023-01-23T19:26:54.620725",
     "status": "completed"
    },
    "tags": []
   },
   "outputs": [],
   "source": [
    "def predict(Y,X,w1,w2): \n",
    "    Y_pred = [] \n",
    "    for x in X: \n",
    "        val = w2*x + w1\n",
    "        Y_pred.append(val)\n",
    "    return Y_pred"
   ]
  },
  {
   "cell_type": "code",
   "execution_count": 8,
   "id": "7449fe50",
   "metadata": {
    "execution": {
     "iopub.execute_input": "2023-01-23T19:26:54.649566Z",
     "iopub.status.busy": "2023-01-23T19:26:54.649033Z",
     "iopub.status.idle": "2023-01-23T19:26:54.871436Z",
     "shell.execute_reply": "2023-01-23T19:26:54.870466Z"
    },
    "papermill": {
     "duration": 0.232431,
     "end_time": "2023-01-23T19:26:54.874047",
     "exception": false,
     "start_time": "2023-01-23T19:26:54.641616",
     "status": "completed"
    },
    "tags": []
   },
   "outputs": [
    {
     "data": {
      "image/png": "[encoded data removed]",
      "text/plain": [
       "<Figure size 720x720 with 1 Axes>"
      ]
     },
     "metadata": {
      "needs_background": "light"
     },
     "output_type": "display_data"
    }
   ],
   "source": [
    "plt.figure(figsize=(10, 10))\n",
    "\n",
    "# plot data as given above\n",
    "plt.scatter(X,Y)\n",
    "plt.xlabel('X')\n",
    "plt.ylabel('Y')\n",
    "\n",
    "get_preds = predict(Y,X,initial_w1,initial_w2)\n",
    "# plot line graph using intital values of w1 and w2\n",
    "plt.plot(X, get_preds, color='b' ,label = \"Intinal values line\")\n",
    "\n",
    "get_preds = predict(Y,X,final_w1,final_w2)\n",
    "# plot line graph using final values of w1 and w2\n",
    "plt.plot(X, get_preds, color='g', label = \"Final values line\")\n",
    "\n",
    "get_preds = predict(Y,X,a,b)\n",
    "# plot line graph using final values of a and b\n",
    "plt.plot(X, get_preds, color='orange', label = \"Original values line\")\n",
    "\n",
    "#Plot the grpah\n",
    "plt.title(\"Linear Regression Graph\")\n",
    "plt.legend()\n",
    "plt.show()"
   ]
  },
  {
   "cell_type": "markdown",
   "id": "afc13244",
   "metadata": {
    "papermill": {
     "duration": 0.005732,
     "end_time": "2023-01-23T19:26:54.886228",
     "exception": false,
     "start_time": "2023-01-23T19:26:54.880496",
     "status": "completed"
    },
    "tags": []
   },
   "source": [
    "### e. Write another python function for the following error function: *𝐸̃ (𝑤1,𝑤2)=1𝑁∑𝑖=1𝑁(𝑤1+𝑤2𝑥𝑖−𝑦𝑖)4. *Calculate analytically the gradient of  𝐸̃  , and implement another python function that calculates it."
   ]
  },
  {
   "cell_type": "code",
   "execution_count": 9,
   "id": "5d66d141",
   "metadata": {
    "execution": {
     "iopub.execute_input": "2023-01-23T19:26:54.901211Z",
     "iopub.status.busy": "2023-01-23T19:26:54.900097Z",
     "iopub.status.idle": "2023-01-23T19:26:54.907492Z",
     "shell.execute_reply": "2023-01-23T19:26:54.906582Z"
    },
    "papermill": {
     "duration": 0.017412,
     "end_time": "2023-01-23T19:26:54.909747",
     "exception": false,
     "start_time": "2023-01-23T19:26:54.892335",
     "status": "completed"
    },
    "tags": []
   },
   "outputs": [],
   "source": [
    "#A function that calculates the mean squared error power four for given values of X and Y with parameters w1 and w2\n",
    "def mean_square_error_power_four(X, Y, w1, w2):\n",
    "    n = len(X)\n",
    "    total_error = 0\n",
    "    \n",
    "    #running the loop for total numer of samples in dataset\n",
    "    for i in range(n):\n",
    "        #calculating the error value as given in the above formula in statement (e)\n",
    "        total_error = total_error + (w1 + w2 * X[i] - Y[i]) ** 4\n",
    "    \n",
    "    #Since this is a mean error, dividing the total error calculated by total number of samples \n",
    "    msepf = total_error / n\n",
    "    return msepf"
   ]
  },
  {
   "cell_type": "markdown",
   "id": "1c89fbb8",
   "metadata": {
    "papermill": {
     "duration": 0.005762,
     "end_time": "2023-01-23T19:26:54.921831",
     "exception": false,
     "start_time": "2023-01-23T19:26:54.916069",
     "status": "completed"
    },
    "tags": []
   },
   "source": [
    "(e)For this part we need to calculate partial derivatives with respect to w1 and w2\n",
    "\n",
    "\n",
    "Let's see how can we calculate the partial derivative for w1 first \n",
    "\n",
    "In the original equation we have = (𝑤1 + (𝑤2 * 𝑥𝑖) − 𝑦𝑖)^4\n",
    "\n",
    "(1)()^2 will transform to 4()\n",
    "\n",
    "(2)(𝑤1 + (𝑤2 * 𝑥𝑖) − 𝑦𝑖) stays the same but we need to minus 1 from the power four and it'll become power 3\n",
    "\n",
    "(1 + (0) − 0)^3\n",
    "\n",
    "(3)Here derivative of (𝑤1 + (𝑤2 * 𝑥𝑖) − 𝑦𝑖) turns into this: (1 + (0) − 0) or 1 because we treat 𝑦𝑖 and (𝑤2 * 𝑥𝑖) as constants so they become 0 and w1 becomes 1, so we can just use the same equation that was left with us.\n",
    "\n",
    "(4)Put everything together we get (4 * (w1 + (𝑤2 * 𝑥𝑖) - 𝑦𝑖)^3)\n",
    "\n",
    "Now let's see how can we calculate the partial derivative for w2 \n",
    "\n",
    "In the original equation we have = (𝑤1 + (𝑤2 * 𝑥𝑖) − 𝑦𝑖)^4\n",
    "\n",
    "(1)()^4 will transform to 4()\n",
    "\n",
    "(2)Take a partial derivative with respect to w2 we get (0 + (1 * 𝑥𝑖) − 0) hence we get 𝑥𝑖. \n",
    "\n",
    "(3)Put everything together we get (4 * (w1 + (𝑤2 * 𝑥𝑖) - 𝑦𝑖)^3) * 𝑥𝑖"
   ]
  },
  {
   "cell_type": "code",
   "execution_count": 10,
   "id": "ee3b5f4e",
   "metadata": {
    "execution": {
     "iopub.execute_input": "2023-01-23T19:26:54.936660Z",
     "iopub.status.busy": "2023-01-23T19:26:54.935881Z",
     "iopub.status.idle": "2023-01-23T19:26:54.942942Z",
     "shell.execute_reply": "2023-01-23T19:26:54.942045Z"
    },
    "papermill": {
     "duration": 0.017589,
     "end_time": "2023-01-23T19:26:54.945597",
     "exception": false,
     "start_time": "2023-01-23T19:26:54.928008",
     "status": "completed"
    },
    "tags": []
   },
   "outputs": [],
   "source": [
    "def gradient_mean_square_error_power_four(X, Y, w1, w2):\n",
    "    \n",
    "    n = len(X)\n",
    "    partial_derivative_w1 = 0\n",
    "    partial_derivative_w2 = 0\n",
    "    \n",
    "    for i in range(n):\n",
    "        partial_derivative_w1 += 4 * (w1 + w2 * X[i] - Y[i]) ** 3\n",
    "        partial_derivative_w2 += 4 * (w1 + w2 * X[i] - Y[i]) ** 3 * X[i]\n",
    "    \n",
    "    #take the mean of w1 and w2 vals\n",
    "    partial_derivative_w1 = partial_derivative_w1 / n\n",
    "    partial_derivative_w2 = partial_derivative_w2 / n\n",
    "    \n",
    "    return partial_derivative_w1 , partial_derivative_w2 "
   ]
  }
 ],
 "metadata": {
  "kernelspec": {
   "display_name": "Python 3",
   "language": "python",
   "name": "python3"
  },
  "language_info": {
   "codemirror_mode": {
    "name": "ipython",
    "version": 3
   },
   "file_extension": ".py",
   "mimetype": "text/x-python",
   "name": "python",
   "nbconvert_exporter": "python",
   "pygments_lexer": "ipython3",
   "version": "3.7.12"
  },
  "papermill": {
   "default_parameters": {},
   "duration": 14.006419,
   "end_time": "2023-01-23T19:26:55.876852",
   "environment_variables": {},
   "exception": null,
   "input_path": "__notebook__.ipynb",
   "output_path": "__notebook__.ipynb",
   "parameters": {},
   "start_time": "2023-01-23T19:26:41.870433",
   "version": "2.3.4"
  }
 },
 "nbformat": 4,
 "nbformat_minor": 5
}
